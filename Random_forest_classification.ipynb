{
  "nbformat": 4,
  "nbformat_minor": 0,
  "metadata": {
    "colab": {
      "name": "Random forest classification.ipynb",
      "provenance": [],
      "collapsed_sections": []
    },
    "kernelspec": {
      "name": "python3",
      "display_name": "Python 3"
    }
  },
  "cells": [
    {
      "cell_type": "code",
      "metadata": {
        "id": "6YxLSAKCllPe"
      },
      "source": [
        "import numpy as np \r\n",
        "import pandas as pd "
      ],
      "execution_count": 1,
      "outputs": []
    },
    {
      "cell_type": "code",
      "metadata": {
        "colab": {
          "base_uri": "https://localhost:8080/",
          "height": 419
        },
        "id": "7EW8FMTFulUr",
        "outputId": "8600cdf9-d428-4675-f0f9-18c89471b21f"
      },
      "source": [
        "dataset = pd.read_csv('Social_Network_Ads.csv')\r\n",
        "dataset\r\n"
      ],
      "execution_count": 4,
      "outputs": [
        {
          "output_type": "execute_result",
          "data": {
            "text/html": [
              "<div>\n",
              "<style scoped>\n",
              "    .dataframe tbody tr th:only-of-type {\n",
              "        vertical-align: middle;\n",
              "    }\n",
              "\n",
              "    .dataframe tbody tr th {\n",
              "        vertical-align: top;\n",
              "    }\n",
              "\n",
              "    .dataframe thead th {\n",
              "        text-align: right;\n",
              "    }\n",
              "</style>\n",
              "<table border=\"1\" class=\"dataframe\">\n",
              "  <thead>\n",
              "    <tr style=\"text-align: right;\">\n",
              "      <th></th>\n",
              "      <th>User ID</th>\n",
              "      <th>Gender</th>\n",
              "      <th>Age</th>\n",
              "      <th>EstimatedSalary</th>\n",
              "      <th>Purchased</th>\n",
              "    </tr>\n",
              "  </thead>\n",
              "  <tbody>\n",
              "    <tr>\n",
              "      <th>0</th>\n",
              "      <td>15624510</td>\n",
              "      <td>Male</td>\n",
              "      <td>19</td>\n",
              "      <td>19000</td>\n",
              "      <td>0</td>\n",
              "    </tr>\n",
              "    <tr>\n",
              "      <th>1</th>\n",
              "      <td>15810944</td>\n",
              "      <td>Male</td>\n",
              "      <td>35</td>\n",
              "      <td>20000</td>\n",
              "      <td>0</td>\n",
              "    </tr>\n",
              "    <tr>\n",
              "      <th>2</th>\n",
              "      <td>15668575</td>\n",
              "      <td>Female</td>\n",
              "      <td>26</td>\n",
              "      <td>43000</td>\n",
              "      <td>0</td>\n",
              "    </tr>\n",
              "    <tr>\n",
              "      <th>3</th>\n",
              "      <td>15603246</td>\n",
              "      <td>Female</td>\n",
              "      <td>27</td>\n",
              "      <td>57000</td>\n",
              "      <td>0</td>\n",
              "    </tr>\n",
              "    <tr>\n",
              "      <th>4</th>\n",
              "      <td>15804002</td>\n",
              "      <td>Male</td>\n",
              "      <td>19</td>\n",
              "      <td>76000</td>\n",
              "      <td>0</td>\n",
              "    </tr>\n",
              "    <tr>\n",
              "      <th>...</th>\n",
              "      <td>...</td>\n",
              "      <td>...</td>\n",
              "      <td>...</td>\n",
              "      <td>...</td>\n",
              "      <td>...</td>\n",
              "    </tr>\n",
              "    <tr>\n",
              "      <th>395</th>\n",
              "      <td>15691863</td>\n",
              "      <td>Female</td>\n",
              "      <td>46</td>\n",
              "      <td>41000</td>\n",
              "      <td>1</td>\n",
              "    </tr>\n",
              "    <tr>\n",
              "      <th>396</th>\n",
              "      <td>15706071</td>\n",
              "      <td>Male</td>\n",
              "      <td>51</td>\n",
              "      <td>23000</td>\n",
              "      <td>1</td>\n",
              "    </tr>\n",
              "    <tr>\n",
              "      <th>397</th>\n",
              "      <td>15654296</td>\n",
              "      <td>Female</td>\n",
              "      <td>50</td>\n",
              "      <td>20000</td>\n",
              "      <td>1</td>\n",
              "    </tr>\n",
              "    <tr>\n",
              "      <th>398</th>\n",
              "      <td>15755018</td>\n",
              "      <td>Male</td>\n",
              "      <td>36</td>\n",
              "      <td>33000</td>\n",
              "      <td>0</td>\n",
              "    </tr>\n",
              "    <tr>\n",
              "      <th>399</th>\n",
              "      <td>15594041</td>\n",
              "      <td>Female</td>\n",
              "      <td>49</td>\n",
              "      <td>36000</td>\n",
              "      <td>1</td>\n",
              "    </tr>\n",
              "  </tbody>\n",
              "</table>\n",
              "<p>400 rows × 5 columns</p>\n",
              "</div>"
            ],
            "text/plain": [
              "     User ID   Gender   Age   EstimatedSalary   Purchased\n",
              "0    15624510    Male     19             19000          0\n",
              "1    15810944    Male     35             20000          0\n",
              "2    15668575  Female     26             43000          0\n",
              "3    15603246  Female     27             57000          0\n",
              "4    15804002    Male     19             76000          0\n",
              "..        ...      ...   ...               ...        ...\n",
              "395  15691863  Female     46             41000          1\n",
              "396  15706071    Male     51             23000          1\n",
              "397  15654296  Female     50             20000          1\n",
              "398  15755018    Male     36             33000          0\n",
              "399  15594041  Female     49             36000          1\n",
              "\n",
              "[400 rows x 5 columns]"
            ]
          },
          "metadata": {
            "tags": []
          },
          "execution_count": 4
        }
      ]
    },
    {
      "cell_type": "code",
      "metadata": {
        "colab": {
          "base_uri": "https://localhost:8080/"
        },
        "id": "6oXtOdKdvSZT",
        "outputId": "41973fce-be33-4efc-fb8f-e32a77ee1570"
      },
      "source": [
        "# (matrix of independent variables)\r\n",
        "X = dataset.iloc[:,[2,3]].values \r\n",
        "\r\n",
        "# (array of dependent variables)\r\n",
        "y = dataset.iloc[:,4].values\r\n",
        "\r\n",
        "# (Splitting into test set and training set_\r\n",
        "from sklearn.model_selection import train_test_split\r\n",
        "X_train, X_test, y_train, y_test = train_test_split(X, y, test_size=0.25, random_state=0)\r\n",
        "\r\n",
        "# (feature scaling)\r\n",
        "from sklearn.preprocessing import StandardScaler\r\n",
        "sc_X = StandardScaler()\r\n",
        "X_train = sc_X.fit_transform(X_train)\r\n",
        "X_test = sc_X.transform(X_test)\r\n",
        "\r\n",
        "# (Fitting classifier to the Training set)\r\n",
        "from sklearn.ensemble import RandomForestClassifier\r\n",
        "classifier = RandomForestClassifier(n_estimators=10, random_state=0, criterion='entropy')\r\n",
        "classifier.fit(X_train,y_train)\r\n",
        "\r\n",
        "# (Predicting the test set value)\r\n",
        "y_pred = classifier.predict(X_test)\r\n",
        "\r\n",
        "# (Confusion matrix)\r\n",
        "from sklearn.metrics import confusion_matrix\r\n",
        "cm = confusion_matrix(y_test, y_pred)\r\n",
        "cm"
      ],
      "execution_count": 5,
      "outputs": [
        {
          "output_type": "execute_result",
          "data": {
            "text/plain": [
              "array([[63,  5],\n",
              "       [ 4, 28]])"
            ]
          },
          "metadata": {
            "tags": []
          },
          "execution_count": 5
        }
      ]
    },
    {
      "cell_type": "code",
      "metadata": {
        "colab": {
          "base_uri": "https://localhost:8080/",
          "height": 349
        },
        "id": "mKT_ilkdvYp6",
        "outputId": "93a31e24-9059-4dac-f3de-c209c8f1d6da"
      },
      "source": [
        "# (Visualizing the Training Set results)\r\n",
        "import matplotlib.pyplot as plt\r\n",
        "from matplotlib.colors import ListedColormap\r\n",
        "\r\n",
        "X_set, y_set = X_train, y_train\r\n",
        "X1, X2 = np.meshgrid(np.arange(start = X_set[:, 0].min() - 1, stop = X_set[:, 0].max() + 1,\r\n",
        "                              step = 0.01),\r\n",
        "                    np.arange(start = X_set[:, 1].min() - 1, stop = X_set[:, 1].max() + 1,\r\n",
        "                              step = 0.01))\r\n",
        "plt.contourf(X1,X2,classifier.predict(\r\n",
        "    np.array([X1.ravel(), X2.ravel()]).T).reshape(X1.shape), alpha=0.75,\r\n",
        "    cmap=ListedColormap(('red','green')))\r\n",
        "plt.xlim(X1.min(), X1.max())\r\n",
        "plt.ylim(X2.min(), X2.max())\r\n",
        "for i, j in enumerate(np.unique(y_set)):\r\n",
        "    plt.scatter(X_set[y_set == j, 0], X_set[y_set == j, 1],\r\n",
        "               c=ListedColormap(('red','green'))(i),label=j)\r\n",
        "plt.title(\"Random Forest Classification - Training Set\")\r\n",
        "plt.xlabel(\"Age\")\r\n",
        "plt.ylabel(\"Est. Salary\")\r\n",
        "plt.legend()\r\n",
        "plt.show()\r\n"
      ],
      "execution_count": 6,
      "outputs": [
        {
          "output_type": "stream",
          "text": [
            "*c* argument looks like a single numeric RGB or RGBA sequence, which should be avoided as value-mapping will have precedence in case its length matches with *x* & *y*.  Please use the *color* keyword-argument or provide a 2-D array with a single row if you intend to specify the same RGB or RGBA value for all points.\n",
            "*c* argument looks like a single numeric RGB or RGBA sequence, which should be avoided as value-mapping will have precedence in case its length matches with *x* & *y*.  Please use the *color* keyword-argument or provide a 2-D array with a single row if you intend to specify the same RGB or RGBA value for all points.\n"
          ],
          "name": "stderr"
        },
        {
          "output_type": "display_data",
          "data": {
            "image/png": "[encoded data removed]",
            "text/plain": [
              "<Figure size 432x288 with 1 Axes>"
            ]
          },
          "metadata": {
            "tags": [],
            "needs_background": "light"
          }
        }
      ]
    },
    {
      "cell_type": "code",
      "metadata": {
        "colab": {
          "base_uri": "https://localhost:8080/",
          "height": 349
        },
        "id": "rc1nP5hQvgaJ",
        "outputId": "290cd2c5-9ce5-4c6b-80e6-0ee30e9493f2"
      },
      "source": [
        "# (Visualizing the Test Set results)\r\n",
        "from matplotlib.colors import ListedColormap\r\n",
        "X_set, y_set = X_test, y_test\r\n",
        "X1, X2 = np.meshgrid(np.arange(start = X_set[:, 0].min() - 1, stop = X_set[:, 0].max() + 1,\r\n",
        "                              step = 0.01),\r\n",
        "                    np.arange(start = X_set[:, 1].min() - 1, stop = X_set[:, 1].max() + 1,\r\n",
        "                              step = 0.01))\r\n",
        "plt.contourf(X1,X2,classifier.predict(\r\n",
        "    np.array([X1.ravel(), X2.ravel()]).T).reshape(X1.shape), alpha=0.75,\r\n",
        "    cmap=ListedColormap(('red','green')))\r\n",
        "plt.xlim(X1.min(), X1.max())\r\n",
        "plt.ylim(X2.min(), X2.max())\r\n",
        "for i, j in enumerate(np.unique(y_set)):\r\n",
        "    plt.scatter(X_set[y_set == j, 0], X_set[y_set == j, 1],\r\n",
        "               c=ListedColormap(('red','green'))(i),label=j)\r\n",
        "plt.title(\"Random Forest Classification - Test Set\")\r\n",
        "plt.xlabel(\"Age\")\r\n",
        "plt.ylabel(\"Est. Salary\")\r\n",
        "plt.legend()\r\n",
        "plt.show()"
      ],
      "execution_count": 7,
      "outputs": [
        {
          "output_type": "stream",
          "text": [
            "*c* argument looks like a single numeric RGB or RGBA sequence, which should be avoided as value-mapping will have precedence in case its length matches with *x* & *y*.  Please use the *color* keyword-argument or provide a 2-D array with a single row if you intend to specify the same RGB or RGBA value for all points.\n",
            "*c* argument looks like a single numeric RGB or RGBA sequence, which should be avoided as value-mapping will have precedence in case its length matches with *x* & *y*.  Please use the *color* keyword-argument or provide a 2-D array with a single row if you intend to specify the same RGB or RGBA value for all points.\n"
          ],
          "name": "stderr"
        },
        {
          "output_type": "display_data",
          "data": {
            "image/png": "[encoded data removed]",
            "text/plain": [
              "<Figure size 432x288 with 1 Axes>"
            ]
          },
          "metadata": {
            "tags": [],
            "needs_background": "light"
          }
        }
      ]
    },
    {
      "cell_type": "code",
      "metadata": {
        "colab": {
          "base_uri": "https://localhost:8080/",
          "height": 349
        },
        "id": "8k5J2Mj2voeX",
        "outputId": "b453ab7b-5583-4cff-bb0e-fbb74f1dbc0c"
      },
      "source": [
        "\r\n",
        "tix = list(range(7))\r\n",
        "tix2 = list(range(7))\r\n",
        "label = list(range(7))\r\n",
        "label2 = list(range(7))\r\n",
        "\r\n",
        "for i in range(7):\r\n",
        "    tix[i] = sc_X.transform(np.array([[0,i*30000]]))\r\n",
        "    tix2[i] = sc_X.transform(np.array([[i*10,0]]))\r\n",
        "    label[i] = i*30000\r\n",
        "    label2[i] = i*10\r\n",
        "    \r\n",
        "tix3 = list(range(7))\r\n",
        "tix4 = list(range(7))\r\n",
        "for i in tix3:\r\n",
        "    tix3[i] = tix2[i][0,0]\r\n",
        "    tix4[i] = tix[i][0,1]\r\n",
        "    \r\n",
        "# (Visualizing the Test Set results)\r\n",
        "from matplotlib.colors import ListedColormap\r\n",
        "X_set, y_set = X_test, y_test\r\n",
        "X1, X2 = np.meshgrid(np.arange(start = X_set[:, 0].min() - 1, stop = X_set[:, 0].max() + 1,\r\n",
        "                              step = 0.01),\r\n",
        "                    np.arange(start = X_set[:, 1].min() - 1, stop = X_set[:, 1].max() + 1,\r\n",
        "                              step = 0.01))\r\n",
        "plt.contourf(X1,X2,classifier.predict(\r\n",
        "    np.array([X1.ravel(), X2.ravel()]).T).reshape(X1.shape), alpha=0.75,\r\n",
        "    cmap=ListedColormap(('red','green')))\r\n",
        "for i, j in enumerate(np.unique(y_set)):\r\n",
        "    plt.scatter(X_set[y_set == j, 0], X_set[y_set == j, 1],\r\n",
        "               c=ListedColormap(('red','green'))(i),label=j)\r\n",
        "plt.title(\"Random Forest Classification - Test Set\")\r\n",
        "plt.xlabel(\"Age\")\r\n",
        "plt.ylabel(\"Est. Salary\")\r\n",
        "plt.legend()\r\n",
        "plt.xticks(tix3,label2)\r\n",
        "plt.yticks(tix4,label)\r\n",
        "plt.xlim(X1.min(), X1.max())\r\n",
        "plt.ylim(X2.min(), X2.max())\r\n",
        "plt.show()"
      ],
      "execution_count": 8,
      "outputs": [
        {
          "output_type": "stream",
          "text": [
            "*c* argument looks like a single numeric RGB or RGBA sequence, which should be avoided as value-mapping will have precedence in case its length matches with *x* & *y*.  Please use the *color* keyword-argument or provide a 2-D array with a single row if you intend to specify the same RGB or RGBA value for all points.\n",
            "*c* argument looks like a single numeric RGB or RGBA sequence, which should be avoided as value-mapping will have precedence in case its length matches with *x* & *y*.  Please use the *color* keyword-argument or provide a 2-D array with a single row if you intend to specify the same RGB or RGBA value for all points.\n"
          ],
          "name": "stderr"
        },
        {
          "output_type": "display_data",
          "data": {
            "image/png": "[encoded data removed]",
            "text/plain": [
              "<Figure size 432x288 with 1 Axes>"
            ]
          },
          "metadata": {
            "tags": [],
            "needs_background": "light"
          }
        }
      ]
    }
  ]
}